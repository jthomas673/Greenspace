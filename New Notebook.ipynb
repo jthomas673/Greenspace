{
 "cells": [
  {
   "cell_type": "code",
   "execution_count": 3,
   "metadata": {},
   "outputs": [
    {
     "ename": "SyntaxError",
     "evalue": "(unicode error) 'unicodeescape' codec can't decode bytes in position 2-3: truncated \\UXXXXXXXX escape (<string>, line 5)",
     "output_type": "error",
     "traceback": [
      "\u001b[0;31m---------------------------------------------------------------------------\u001b[0m\n\u001b[0;31mSyntaxError\u001b[0m                               Traceback (most recent call last)",
      "File \u001b[0;34mC:\\Program Files\\ArcGIS\\Pro\\bin\\Python\\envs\\arcgispro-py3\\Lib\\ast.py\u001b[0m, in \u001b[0;32mparse\u001b[0m:\nLine \u001b[0;34m50\u001b[0m:    \u001b[34mreturn\u001b[39;49;00m \u001b[36mcompile\u001b[39;49;00m(source, filename, mode, flags,\u001b[37m\u001b[39;49;00m\n",
      "\u001b[0;31mSyntaxError\u001b[0m: (unicode error) 'unicodeescape' codec can't decode bytes in position 2-3: truncated \\UXXXXXXXX escape (<string>, line 5)\n\u001b[0;31m---------------------------------------------------------------------------\u001b[0m"
     ]
    }
   ],
   "source": [
    "import arcpy\n",
    "import os\n",
    "\n",
    "# Define paths\n",
    "polygon_layer = \"C:\\Users\\jdt45\\Documents\\Projects\\Wiggins Map\\shp files\\wiggins_parcels.shp\"\n",
    "input_raster = \"C:\\Users\\jdt45\\Documents\\Projects\\Wiggins Map\\File Rasters\\ndvi_rasters\"\n",
    "output_folder = \"C:\\Users\\jdt45\\Documents\\Projects\\Wiggins Map\\File Rasters\\ndvi_raster_files\"\n",
    "\n",
    "# Create a search cursor to iterate through each polygon\n",
    "with arcpy.da.SearchCursor(polygon_layer, [\"SHAPE@\", \"ownerAdd\"]) as cursor:\n",
    "    for row in cursor:\n",
    "        polygon = row[0]\n",
    "        name = row[1]\n",
    "        \n",
    "        # Define the output raster path\n",
    "        output_raster = os.path.join(output_folder, f\"{name}.tif\")\n",
    "        \n",
    "        # Clip the raster\n",
    "        arcpy.management.Clip(\n",
    "            in_raster=input_raster,\n",
    "            out_raster=output_raster,\n",
    "            in_template_dataset=polygon,\n",
    "            clipping_geometry=\"ClippingGeometry\",\n",
    "            maintain_clipping_extent=\"NO_MAINTAIN_EXTENT\"\n",
    "        )\n",
    "        \n",
    "        print(f\"Clipped raster saved as {output_raster}\")\n",
    "\n",
    "print(\"All rasters have been processed and saved.\")"
   ]
  },
  {
   "cell_type": "code",
   "execution_count": null,
   "metadata": {},
   "outputs": [],
   "source": []
  }
 ],
 "metadata": {
  "kernelspec": {
   "display_name": "ArcGISPro",
   "language": "Python",
   "name": "python3"
  },
  "language_info": {
   "file_extension": ".py",
   "name": "python",
   "version": "3"
  }
 },
 "nbformat": 4,
 "nbformat_minor": 2
}
